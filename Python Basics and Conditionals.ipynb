{
 "cells": [
  {
   "cell_type": "code",
   "execution_count": 3,
   "id": "09866f97",
   "metadata": {},
   "outputs": [
    {
     "name": "stdout",
     "output_type": "stream",
     "text": [
      "this is my first python program\n"
     ]
    }
   ],
   "source": [
    "print('this is my first python program')"
   ]
  },
  {
   "cell_type": "code",
   "execution_count": 4,
   "id": "aa39140c",
   "metadata": {},
   "outputs": [
    {
     "data": {
      "text/plain": [
       "'asd\\nads\\nads\\nsfffd\\nasfdf\\nadfdf'"
      ]
     },
     "execution_count": 4,
     "metadata": {},
     "output_type": "execute_result"
    }
   ],
   "source": [
    "\"\"\"asd\n",
    "ads\n",
    "ads\n",
    "sfffd\n",
    "asfdf\n",
    "adfdf\"\"\""
   ]
  },
  {
   "cell_type": "code",
   "execution_count": 7,
   "id": "61804d52",
   "metadata": {},
   "outputs": [],
   "source": [
    "#as"
   ]
  },
  {
   "cell_type": "code",
   "execution_count": 29,
   "id": "c7140ee8",
   "metadata": {},
   "outputs": [],
   "source": [
    "a=10\n",
    "b=50"
   ]
  },
  {
   "cell_type": "code",
   "execution_count": 30,
   "id": "8c9f10de",
   "metadata": {},
   "outputs": [
    {
     "data": {
      "text/plain": [
       "60"
      ]
     },
     "execution_count": 30,
     "metadata": {},
     "output_type": "execute_result"
    }
   ],
   "source": [
    "a+b"
   ]
  },
  {
   "cell_type": "code",
   "execution_count": 31,
   "id": "a5a1505e",
   "metadata": {},
   "outputs": [
    {
     "data": {
      "text/plain": [
       "500"
      ]
     },
     "execution_count": 31,
     "metadata": {},
     "output_type": "execute_result"
    }
   ],
   "source": [
    "a*b"
   ]
  },
  {
   "cell_type": "code",
   "execution_count": 32,
   "id": "59600b2c",
   "metadata": {},
   "outputs": [
    {
     "data": {
      "text/plain": [
       "-40"
      ]
     },
     "execution_count": 32,
     "metadata": {},
     "output_type": "execute_result"
    }
   ],
   "source": [
    "a-b"
   ]
  },
  {
   "cell_type": "code",
   "execution_count": 33,
   "id": "76407ed2",
   "metadata": {},
   "outputs": [
    {
     "data": {
      "text/plain": [
       "0.2"
      ]
     },
     "execution_count": 33,
     "metadata": {},
     "output_type": "execute_result"
    }
   ],
   "source": [
    "a/b"
   ]
  },
  {
   "cell_type": "code",
   "execution_count": 34,
   "id": "d2d51020",
   "metadata": {},
   "outputs": [
    {
     "data": {
      "text/plain": [
       "10"
      ]
     },
     "execution_count": 34,
     "metadata": {},
     "output_type": "execute_result"
    }
   ],
   "source": [
    "a"
   ]
  },
  {
   "cell_type": "code",
   "execution_count": 35,
   "id": "b4e7c834",
   "metadata": {},
   "outputs": [
    {
     "data": {
      "text/plain": [
       "50"
      ]
     },
     "execution_count": 35,
     "metadata": {},
     "output_type": "execute_result"
    }
   ],
   "source": [
    "b\n"
   ]
  },
  {
   "cell_type": "code",
   "execution_count": 36,
   "id": "21d60b38",
   "metadata": {},
   "outputs": [
    {
     "data": {
      "text/plain": [
       "int"
      ]
     },
     "execution_count": 36,
     "metadata": {},
     "output_type": "execute_result"
    }
   ],
   "source": [
    "type(a)"
   ]
  },
  {
   "cell_type": "code",
   "execution_count": 37,
   "id": "73ae987a",
   "metadata": {},
   "outputs": [],
   "source": [
    "c='anjali'"
   ]
  },
  {
   "cell_type": "code",
   "execution_count": 38,
   "id": "58a70cfc",
   "metadata": {},
   "outputs": [
    {
     "data": {
      "text/plain": [
       "'anjali'"
      ]
     },
     "execution_count": 38,
     "metadata": {},
     "output_type": "execute_result"
    }
   ],
   "source": [
    "c"
   ]
  },
  {
   "cell_type": "code",
   "execution_count": 39,
   "id": "29549b79",
   "metadata": {},
   "outputs": [
    {
     "data": {
      "text/plain": [
       "str"
      ]
     },
     "execution_count": 39,
     "metadata": {},
     "output_type": "execute_result"
    }
   ],
   "source": [
    "type(c)"
   ]
  },
  {
   "cell_type": "code",
   "execution_count": 40,
   "id": "b424b093",
   "metadata": {},
   "outputs": [
    {
     "name": "stdout",
     "output_type": "stream",
     "text": [
      "10 50 anjali\n"
     ]
    }
   ],
   "source": [
    "print(a,b,c)"
   ]
  },
  {
   "cell_type": "code",
   "execution_count": 41,
   "id": "24cbaccd",
   "metadata": {},
   "outputs": [],
   "source": [
    "m=10\n",
    "n=12\n"
   ]
  },
  {
   "cell_type": "code",
   "execution_count": 42,
   "id": "11d191b2",
   "metadata": {},
   "outputs": [],
   "source": [
    "m,n= 1,2"
   ]
  },
  {
   "cell_type": "code",
   "execution_count": 43,
   "id": "2395f71a",
   "metadata": {},
   "outputs": [
    {
     "data": {
      "text/plain": [
       "1"
      ]
     },
     "execution_count": 43,
     "metadata": {},
     "output_type": "execute_result"
    }
   ],
   "source": [
    "m"
   ]
  },
  {
   "cell_type": "code",
   "execution_count": 44,
   "id": "40b98384",
   "metadata": {},
   "outputs": [
    {
     "data": {
      "text/plain": [
       "2"
      ]
     },
     "execution_count": 44,
     "metadata": {},
     "output_type": "execute_result"
    }
   ],
   "source": [
    "n"
   ]
  },
  {
   "cell_type": "code",
   "execution_count": 45,
   "id": "1c756898",
   "metadata": {},
   "outputs": [
    {
     "name": "stdout",
     "output_type": "stream",
     "text": [
      "1 2\n"
     ]
    }
   ],
   "source": [
    "print(m,n)"
   ]
  },
  {
   "cell_type": "code",
   "execution_count": 46,
   "id": "60ad25e9",
   "metadata": {},
   "outputs": [
    {
     "data": {
      "text/plain": [
       "4"
      ]
     },
     "execution_count": 46,
     "metadata": {},
     "output_type": "execute_result"
    }
   ],
   "source": [
    "True +True + True+False+True"
   ]
  },
  {
   "cell_type": "code",
   "execution_count": 47,
   "id": "502812a9",
   "metadata": {},
   "outputs": [
    {
     "name": "stdout",
     "output_type": "stream",
     "text": [
      "4\n"
     ]
    }
   ],
   "source": [
    "print(True +True + True+False+True)"
   ]
  },
  {
   "cell_type": "code",
   "execution_count": 48,
   "id": "c70682a2",
   "metadata": {},
   "outputs": [
    {
     "data": {
      "text/plain": [
       "0"
      ]
     },
     "execution_count": 48,
     "metadata": {},
     "output_type": "execute_result"
    }
   ],
   "source": [
    "False - True +True"
   ]
  },
  {
   "cell_type": "code",
   "execution_count": 49,
   "id": "dd6d6d0e",
   "metadata": {},
   "outputs": [],
   "source": [
    "n=45+6j"
   ]
  },
  {
   "cell_type": "code",
   "execution_count": 50,
   "id": "c48fbc11",
   "metadata": {},
   "outputs": [
    {
     "data": {
      "text/plain": [
       "45.0"
      ]
     },
     "execution_count": 50,
     "metadata": {},
     "output_type": "execute_result"
    }
   ],
   "source": [
    "n.real"
   ]
  },
  {
   "cell_type": "code",
   "execution_count": 51,
   "id": "8d8b775b",
   "metadata": {},
   "outputs": [
    {
     "data": {
      "text/plain": [
       "6.0"
      ]
     },
     "execution_count": 51,
     "metadata": {},
     "output_type": "execute_result"
    }
   ],
   "source": [
    "n.imag"
   ]
  },
  {
   "cell_type": "code",
   "execution_count": 52,
   "id": "65e0ff1c",
   "metadata": {},
   "outputs": [
    {
     "data": {
      "text/plain": [
       "'AnjalianjaliAnJu'"
      ]
     },
     "execution_count": 52,
     "metadata": {},
     "output_type": "execute_result"
    }
   ],
   "source": [
    "\"Anjali\"+\"anjali\"+\"AnJu\""
   ]
  },
  {
   "cell_type": "code",
   "execution_count": 1,
   "id": "e9ede098",
   "metadata": {
    "scrolled": true
   },
   "outputs": [
    {
     "data": {
      "text/plain": [
       "'AnjaliAnjaliAnjaliAnjali'"
      ]
     },
     "execution_count": 1,
     "metadata": {},
     "output_type": "execute_result"
    }
   ],
   "source": [
    "\"Anjali\"*4"
   ]
  },
  {
   "cell_type": "markdown",
   "id": "5a01234d",
   "metadata": {},
   "source": [
    "# Task\n",
    " step 1 - take a integer input from user using input function [a,b,c] <br>\n",
    " step 2 - O = (a+b)/c <br>\n",
    " step 3 - L = O + complex number <br>\n",
    " step 4 - L + \"Your name\" <br>"
   ]
  },
  {
   "cell_type": "code",
   "execution_count": 27,
   "id": "05cf93db",
   "metadata": {},
   "outputs": [
    {
     "name": "stdout",
     "output_type": "stream",
     "text": [
      "enter a number23\n",
      "enter a number34\n",
      "enter a number32\n"
     ]
    },
    {
     "data": {
      "text/plain": [
       "'(29.78125+4j)Anjali'"
      ]
     },
     "execution_count": 27,
     "metadata": {},
     "output_type": "execute_result"
    }
   ],
   "source": [
    "a=int(input(\"enter a number\"))\n",
    "b=int(input(\"enter a number\"))\n",
    "c=int(input(\"enter a number\"))\n",
    "O = (a+b)/c\n",
    "L = O + 28 + 4j\n",
    "str(L)+\"Anjali\""
   ]
  },
  {
   "cell_type": "code",
   "execution_count": 30,
   "id": "40c4a332",
   "metadata": {},
   "outputs": [
    {
     "name": "stdout",
     "output_type": "stream",
     "text": [
      "enter your salary - 120\n",
      "I will not buy anything\n"
     ]
    }
   ],
   "source": [
    "salary = int(input(\"enter your salary - \"))\n",
    "if salary >1000 :\n",
    "    print(\"I will buy a car\")\n",
    "elif salary >500 :\n",
    "    print(\"I will buy a bike\")\n",
    "elif salary > 100:\n",
    "    print(\"I will not buy anything\")\n",
    "else :\n",
    "    print(\"I will save money\")"
   ]
  },
  {
   "cell_type": "code",
   "execution_count": null,
   "id": "f7390894",
   "metadata": {},
   "outputs": [],
   "source": []
  },
  {
   "cell_type": "code",
   "execution_count": null,
   "id": "db85f469",
   "metadata": {},
   "outputs": [],
   "source": []
  },
  {
   "cell_type": "code",
   "execution_count": null,
   "id": "f1ae4586",
   "metadata": {},
   "outputs": [],
   "source": [
    "\n"
   ]
  },
  {
   "cell_type": "code",
   "execution_count": null,
   "id": "fd474a7a",
   "metadata": {},
   "outputs": [],
   "source": []
  },
  {
   "cell_type": "code",
   "execution_count": null,
   "id": "a61de5da",
   "metadata": {},
   "outputs": [],
   "source": []
  },
  {
   "cell_type": "code",
   "execution_count": null,
   "id": "0f9dec91",
   "metadata": {},
   "outputs": [],
   "source": []
  }
 ],
 "metadata": {
  "kernelspec": {
   "display_name": "Python 3 (ipykernel)",
   "language": "python",
   "name": "python3"
  },
  "language_info": {
   "codemirror_mode": {
    "name": "ipython",
    "version": 3
   },
   "file_extension": ".py",
   "mimetype": "text/x-python",
   "name": "python",
   "nbconvert_exporter": "python",
   "pygments_lexer": "ipython3",
   "version": "3.9.7"
  }
 },
 "nbformat": 4,
 "nbformat_minor": 5
}
